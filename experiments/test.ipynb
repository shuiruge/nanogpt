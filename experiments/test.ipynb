{
  "cells": [
    {
      "cell_type": "code",
      "source": [
        "!mkdir data\n",
        "!wget https://raw.githubusercontent.com/karpathy/char-rnn/master/data/tinyshakespeare/input.txt\n",
        "!mv input.txt data/shakespeare.txt\n",
        "!pip install git+https://github.com/shuiruge/nanogpt.git"
      ],
      "metadata": {
        "colab": {
          "base_uri": "https://localhost:8080/"
        },
        "id": "eRCpWuVeBogx",
        "outputId": "5f317353-4fca-4526-f846-595da226c4b9"
      },
      "id": "eRCpWuVeBogx",
      "execution_count": 1,
      "outputs": [
        {
          "output_type": "stream",
          "name": "stdout",
          "text": [
            "--2024-03-16 06:54:50--  https://raw.githubusercontent.com/karpathy/char-rnn/master/data/tinyshakespeare/input.txt\n",
            "Resolving raw.githubusercontent.com (raw.githubusercontent.com)... 185.199.108.133, 185.199.109.133, 185.199.110.133, ...\n",
            "Connecting to raw.githubusercontent.com (raw.githubusercontent.com)|185.199.108.133|:443... connected.\n",
            "HTTP request sent, awaiting response... 200 OK\n",
            "Length: 1115394 (1.1M) [text/plain]\n",
            "Saving to: ‘input.txt’\n",
            "\n",
            "input.txt           100%[===================>]   1.06M  --.-KB/s    in 0.008s  \n",
            "\n",
            "2024-03-16 06:54:50 (135 MB/s) - ‘input.txt’ saved [1115394/1115394]\n",
            "\n",
            "Collecting git+https://github.com/shuiruge/nanogpt.git\n",
            "  Cloning https://github.com/shuiruge/nanogpt.git to /tmp/pip-req-build-351mjjhc\n",
            "  Running command git clone --filter=blob:none --quiet https://github.com/shuiruge/nanogpt.git /tmp/pip-req-build-351mjjhc\n",
            "  Resolved https://github.com/shuiruge/nanogpt.git to commit 8d4b2125238af07de365540828b6ea98397db953\n",
            "  Preparing metadata (setup.py) ... \u001b[?25l\u001b[?25hdone\n",
            "Building wheels for collected packages: nanogpt\n",
            "  Building wheel for nanogpt (setup.py) ... \u001b[?25l\u001b[?25hdone\n",
            "  Created wheel for nanogpt: filename=nanogpt-0.0.1-py3-none-any.whl size=4434 sha256=d27cc1ec9535526776b1c5ceaa73b6adfe6ebeffa8028b562e663e643e70a5df\n",
            "  Stored in directory: /tmp/pip-ephem-wheel-cache-yuyt_1pe/wheels/5b/10/e2/56b89782f042b87ab2c6d4c263a5843c0498b8d94e8dfc42c7\n",
            "Successfully built nanogpt\n",
            "Installing collected packages: nanogpt\n",
            "Successfully installed nanogpt-0.0.1\n"
          ]
        }
      ]
    },
    {
      "cell_type": "code",
      "execution_count": 2,
      "id": "250aebf8-3872-4ac5-ae23-a6beed98703e",
      "metadata": {
        "id": "250aebf8-3872-4ac5-ae23-a6beed98703e"
      },
      "outputs": [],
      "source": [
        "import numpy as np\n",
        "import tensorflow as tf\n",
        "from keras.layers import Layer, Dense\n",
        "from keras.models import Model\n",
        "from keras.optimizers import AdamW\n",
        "from keras.losses import SparseCategoricalCrossentropy\n",
        "from keras.utils import Progbar\n",
        "from nanogpt.utils import CharacterTokenizer, Embed, ResBlockWrapper, FeedForward, attention, MultiHeadWrapper"
      ]
    },
    {
      "cell_type": "code",
      "execution_count": 3,
      "id": "d7f6f09f-948d-4430-90a2-ac20b2310ec5",
      "metadata": {
        "colab": {
          "base_uri": "https://localhost:8080/"
        },
        "id": "d7f6f09f-948d-4430-90a2-ac20b2310ec5",
        "outputId": "38f22016-02cc-4b4b-f66e-4f8ecd9845d1"
      },
      "outputs": [
        {
          "output_type": "stream",
          "name": "stdout",
          "text": [
            "First Citizen:\n",
            "Before we proceed any further, hear me speak.\n",
            "\n",
            "All:\n",
            "Speak, speak.\n",
            "\n",
            "First Citizen:\n",
            "You are all resolved rather to die than to famish?\n",
            "\n",
            "All:\n",
            "Resolved. resolved.\n",
            "\n",
            "First Citizen:\n",
            "First, you\n"
          ]
        }
      ],
      "source": [
        "with open('data/shakespeare.txt', 'r') as f:\n",
        "    corpus = ''.join(f.readlines())\n",
        "print(corpus[:200])"
      ]
    },
    {
      "cell_type": "code",
      "execution_count": 4,
      "id": "563aecf0-7f80-4e8c-a130-57a8bcff1df0",
      "metadata": {
        "colab": {
          "base_uri": "https://localhost:8080/"
        },
        "id": "563aecf0-7f80-4e8c-a130-57a8bcff1df0",
        "outputId": "2664c939-31a9-465b-c207-7aa0283da021"
      },
      "outputs": [
        {
          "output_type": "execute_result",
          "data": {
            "text/plain": [
              "65"
            ]
          },
          "metadata": {},
          "execution_count": 4
        }
      ],
      "source": [
        "tokenizer = CharacterTokenizer(corpus)\n",
        "tokenizer.vocab_size"
      ]
    },
    {
      "cell_type": "code",
      "execution_count": 5,
      "id": "17a6d572-360e-40ed-9538-c0c16afdfe15",
      "metadata": {
        "id": "17a6d572-360e-40ed-9538-c0c16afdfe15"
      },
      "outputs": [],
      "source": [
        "seq_len = 100"
      ]
    },
    {
      "cell_type": "code",
      "execution_count": null,
      "id": "8176289a-c1b7-4b09-a997-675eb899b5ea",
      "metadata": {
        "id": "8176289a-c1b7-4b09-a997-675eb899b5ea"
      },
      "outputs": [],
      "source": [
        "# import pickle\n",
        "\n",
        "# with open('tmp.pkl', 'rb') as f:\n",
        "#     contexts, targets = pickle.load(f)"
      ]
    },
    {
      "cell_type": "code",
      "execution_count": 6,
      "id": "fef7c94c-5397-4c9b-bb52-508094cfed99",
      "metadata": {
        "id": "fef7c94c-5397-4c9b-bb52-508094cfed99"
      },
      "outputs": [],
      "source": [
        "n_data = len(corpus) - seq_len\n",
        "contexts = []\n",
        "targets = []\n",
        "for i in range(n_data):\n",
        "    context = tokenizer.encode(corpus[i:(i+seq_len)])\n",
        "    target = tokenizer.encode(corpus[i+seq_len])[0]\n",
        "    contexts.append(context)\n",
        "    targets.append(target)\n",
        "contexts = np.asarray(contexts, dtype='int32')\n",
        "targets = np.asarray(targets, dtype='int32')\n",
        "\n",
        "# import pickle\n",
        "\n",
        "# with open('tmp.pkl', 'wb') as f:\n",
        "#     pickle.dump((contexts, targets), f)"
      ]
    },
    {
      "cell_type": "code",
      "execution_count": null,
      "id": "398ccfec-33fa-467b-afae-3f5a66df7996",
      "metadata": {
        "scrolled": true,
        "id": "398ccfec-33fa-467b-afae-3f5a66df7996"
      },
      "outputs": [],
      "source": [
        "# contexts[0], targets[0]"
      ]
    },
    {
      "cell_type": "code",
      "source": [
        "num_train = int(contexts.shape[0] * 0.9)\n",
        "\n",
        "contexts_train = contexts[:num_train]\n",
        "targets_train = targets[:num_train]\n",
        "\n",
        "contexts_test = contexts[num_train:]\n",
        "targets_test = targets[num_train:]"
      ],
      "metadata": {
        "id": "hGLYfsmPDgiV"
      },
      "id": "hGLYfsmPDgiV",
      "execution_count": 12,
      "outputs": []
    },
    {
      "cell_type": "code",
      "execution_count": 7,
      "id": "c494a087-80a2-46de-8f16-79f1ae6e7879",
      "metadata": {
        "id": "c494a087-80a2-46de-8f16-79f1ae6e7879"
      },
      "outputs": [],
      "source": [
        "class FullSelfAttention(Layer):\n",
        "    def __init__(self, model_dim, num_heads):\n",
        "        super().__init__()\n",
        "        self.model_dim = model_dim\n",
        "        self.num_heads = num_heads\n",
        "\n",
        "        self.multihead = MultiHeadWrapper(self.num_heads)\n",
        "        self.attention_weights = None\n",
        "\n",
        "        self.get_key = Dense(model_dim)\n",
        "        self.get_value = Dense(model_dim)\n",
        "\n",
        "    def call(self, x):\n",
        "        query = self.multihead.split_heads(x)\n",
        "        key = self.multihead.split_heads(self.get_key(x))\n",
        "        value = self.multihead.split_heads(self.get_value(x))\n",
        "\n",
        "        output, attention_weights = attention(query, key, value)\n",
        "        output = self.multihead.concat_heads(output)\n",
        "        self.attention_weights = attention_weights\n",
        "        return output"
      ]
    },
    {
      "cell_type": "code",
      "execution_count": 49,
      "id": "e26b40f9-380f-4309-9e3a-37c8458ad0e8",
      "metadata": {
        "id": "e26b40f9-380f-4309-9e3a-37c8458ad0e8"
      },
      "outputs": [],
      "source": [
        "class MyGPT(Model):\n",
        "\n",
        "    def __init__(self, vocab_size, seq_len, embed_dim, model_dim, num_heads, ffd_dim, num_blocks):\n",
        "        super().__init__()\n",
        "        self.vocab_size = vocab_size\n",
        "        self.seq_len = seq_len\n",
        "        self.embed_dim = embed_dim\n",
        "        self.model_dim = model_dim\n",
        "        self.num_heads = num_heads\n",
        "        self.ffd_dim = ffd_dim\n",
        "        self.num_blocks = num_blocks\n",
        "\n",
        "        self.hidden_layers = [Embed(seq_len, seq_len, embed_dim)]\n",
        "        for i in range(num_blocks):\n",
        "            self.hidden_layers += [\n",
        "                ResBlockWrapper(FullSelfAttention(model_dim, num_heads)),\n",
        "                ResBlockWrapper(FeedForward([ffd_dim], model_dim)),\n",
        "            ]\n",
        "        self.output_layer = Dense(vocab_size)\n",
        "\n",
        "    def call(self, x):\n",
        "        for layer in self.hidden_layers:\n",
        "            x = layer(x)\n",
        "        x = x[:, -1, :]\n",
        "        x = self.output_layer(x)\n",
        "        return x"
      ]
    },
    {
      "cell_type": "code",
      "execution_count": 50,
      "id": "c963ba25-d689-48e5-a736-6ef1a38446ba",
      "metadata": {
        "colab": {
          "base_uri": "https://localhost:8080/"
        },
        "id": "c963ba25-d689-48e5-a736-6ef1a38446ba",
        "outputId": "5074aaab-97a2-4fa5-acc1-71c44ab376b1"
      },
      "outputs": [
        {
          "output_type": "stream",
          "name": "stdout",
          "text": [
            "Model: \"my_gpt_4\"\n",
            "_________________________________________________________________\n",
            " Layer (type)                Output Shape              Param #   \n",
            "=================================================================\n",
            " embed_4 (Embed)             multiple                  76800     \n",
            "                                                                 \n",
            " res_block_wrapper_16 (ResB  multiple                  0 (unused)\n",
            " lockWrapper)                                                    \n",
            "                                                                 \n",
            " res_block_wrapper_17 (ResB  multiple                  0 (unused)\n",
            " lockWrapper)                                                    \n",
            "                                                                 \n",
            " res_block_wrapper_18 (ResB  multiple                  0 (unused)\n",
            " lockWrapper)                                                    \n",
            "                                                                 \n",
            " res_block_wrapper_19 (ResB  multiple                  0 (unused)\n",
            " lockWrapper)                                                    \n",
            "                                                                 \n",
            " res_block_wrapper_20 (ResB  multiple                  0 (unused)\n",
            " lockWrapper)                                                    \n",
            "                                                                 \n",
            " res_block_wrapper_21 (ResB  multiple                  0 (unused)\n",
            " lockWrapper)                                                    \n",
            "                                                                 \n",
            " res_block_wrapper_22 (ResB  multiple                  0 (unused)\n",
            " lockWrapper)                                                    \n",
            "                                                                 \n",
            " res_block_wrapper_23 (ResB  multiple                  0 (unused)\n",
            " lockWrapper)                                                    \n",
            "                                                                 \n",
            " res_block_wrapper_24 (ResB  multiple                  0 (unused)\n",
            " lockWrapper)                                                    \n",
            "                                                                 \n",
            " res_block_wrapper_25 (ResB  multiple                  0 (unused)\n",
            " lockWrapper)                                                    \n",
            "                                                                 \n",
            " res_block_wrapper_26 (ResB  multiple                  0 (unused)\n",
            " lockWrapper)                                                    \n",
            "                                                                 \n",
            " res_block_wrapper_27 (ResB  multiple                  0 (unused)\n",
            " lockWrapper)                                                    \n",
            "                                                                 \n",
            " dense_60 (Dense)            multiple                  25025     \n",
            "                                                                 \n",
            "=================================================================\n",
            "Total params: 8974529 (34.24 MB)\n",
            "Trainable params: 8974529 (34.24 MB)\n",
            "Non-trainable params: 0 (0.00 Byte)\n",
            "_________________________________________________________________\n"
          ]
        }
      ],
      "source": [
        "model = MyGPT(tokenizer.vocab_size, seq_len, 384, 384, 6, 4*384, 6)\n",
        "model.build([None, seq_len])\n",
        "model.summary()"
      ]
    },
    {
      "cell_type": "code",
      "execution_count": 51,
      "id": "129f1cce-c536-452d-8cfe-3b2303de497f",
      "metadata": {
        "colab": {
          "base_uri": "https://localhost:8080/",
          "height": 391
        },
        "id": "129f1cce-c536-452d-8cfe-3b2303de497f",
        "outputId": "2f20c8a9-487b-4429-dc5f-8786fdc9956e"
      },
      "outputs": [
        {
          "output_type": "stream",
          "name": "stdout",
          "text": [
            "Epoch 1/5\n",
            "1144/7842 [===>..........................] - ETA: 30:24 - loss: 2.6475"
          ]
        },
        {
          "output_type": "error",
          "ename": "KeyboardInterrupt",
          "evalue": "",
          "traceback": [
            "\u001b[0;31m---------------------------------------------------------------------------\u001b[0m",
            "\u001b[0;31mKeyboardInterrupt\u001b[0m                         Traceback (most recent call last)",
            "\u001b[0;32m<ipython-input-51-6550bcfaa1a3>\u001b[0m in \u001b[0;36m<cell line: 5>\u001b[0;34m()\u001b[0m\n\u001b[1;32m      3\u001b[0m     \u001b[0mloss\u001b[0m\u001b[0;34m=\u001b[0m\u001b[0mSparseCategoricalCrossentropy\u001b[0m\u001b[0;34m(\u001b[0m\u001b[0mfrom_logits\u001b[0m\u001b[0;34m=\u001b[0m\u001b[0;32mTrue\u001b[0m\u001b[0;34m)\u001b[0m\u001b[0;34m,\u001b[0m\u001b[0;34m\u001b[0m\u001b[0;34m\u001b[0m\u001b[0m\n\u001b[1;32m      4\u001b[0m )\n\u001b[0;32m----> 5\u001b[0;31m model.fit(\n\u001b[0m\u001b[1;32m      6\u001b[0m     \u001b[0mcontexts_train\u001b[0m\u001b[0;34m,\u001b[0m \u001b[0mtargets_train\u001b[0m\u001b[0;34m,\u001b[0m\u001b[0;34m\u001b[0m\u001b[0;34m\u001b[0m\u001b[0m\n\u001b[1;32m      7\u001b[0m     \u001b[0mbatch_size\u001b[0m\u001b[0;34m=\u001b[0m\u001b[0;36m128\u001b[0m\u001b[0;34m,\u001b[0m\u001b[0;34m\u001b[0m\u001b[0;34m\u001b[0m\u001b[0m\n",
            "\u001b[0;32m/usr/local/lib/python3.10/dist-packages/keras/src/utils/traceback_utils.py\u001b[0m in \u001b[0;36merror_handler\u001b[0;34m(*args, **kwargs)\u001b[0m\n\u001b[1;32m     63\u001b[0m         \u001b[0mfiltered_tb\u001b[0m \u001b[0;34m=\u001b[0m \u001b[0;32mNone\u001b[0m\u001b[0;34m\u001b[0m\u001b[0;34m\u001b[0m\u001b[0m\n\u001b[1;32m     64\u001b[0m         \u001b[0;32mtry\u001b[0m\u001b[0;34m:\u001b[0m\u001b[0;34m\u001b[0m\u001b[0;34m\u001b[0m\u001b[0m\n\u001b[0;32m---> 65\u001b[0;31m             \u001b[0;32mreturn\u001b[0m \u001b[0mfn\u001b[0m\u001b[0;34m(\u001b[0m\u001b[0;34m*\u001b[0m\u001b[0margs\u001b[0m\u001b[0;34m,\u001b[0m \u001b[0;34m**\u001b[0m\u001b[0mkwargs\u001b[0m\u001b[0;34m)\u001b[0m\u001b[0;34m\u001b[0m\u001b[0;34m\u001b[0m\u001b[0m\n\u001b[0m\u001b[1;32m     66\u001b[0m         \u001b[0;32mexcept\u001b[0m \u001b[0mException\u001b[0m \u001b[0;32mas\u001b[0m \u001b[0me\u001b[0m\u001b[0;34m:\u001b[0m\u001b[0;34m\u001b[0m\u001b[0;34m\u001b[0m\u001b[0m\n\u001b[1;32m     67\u001b[0m             \u001b[0mfiltered_tb\u001b[0m \u001b[0;34m=\u001b[0m \u001b[0m_process_traceback_frames\u001b[0m\u001b[0;34m(\u001b[0m\u001b[0me\u001b[0m\u001b[0;34m.\u001b[0m\u001b[0m__traceback__\u001b[0m\u001b[0;34m)\u001b[0m\u001b[0;34m\u001b[0m\u001b[0;34m\u001b[0m\u001b[0m\n",
            "\u001b[0;32m/usr/local/lib/python3.10/dist-packages/keras/src/engine/training.py\u001b[0m in \u001b[0;36mfit\u001b[0;34m(self, x, y, batch_size, epochs, verbose, callbacks, validation_split, validation_data, shuffle, class_weight, sample_weight, initial_epoch, steps_per_epoch, validation_steps, validation_batch_size, validation_freq, max_queue_size, workers, use_multiprocessing)\u001b[0m\n\u001b[1;32m   1805\u001b[0m                         ):\n\u001b[1;32m   1806\u001b[0m                             \u001b[0mcallbacks\u001b[0m\u001b[0;34m.\u001b[0m\u001b[0mon_train_batch_begin\u001b[0m\u001b[0;34m(\u001b[0m\u001b[0mstep\u001b[0m\u001b[0;34m)\u001b[0m\u001b[0;34m\u001b[0m\u001b[0;34m\u001b[0m\u001b[0m\n\u001b[0;32m-> 1807\u001b[0;31m                             \u001b[0mtmp_logs\u001b[0m \u001b[0;34m=\u001b[0m \u001b[0mself\u001b[0m\u001b[0;34m.\u001b[0m\u001b[0mtrain_function\u001b[0m\u001b[0;34m(\u001b[0m\u001b[0miterator\u001b[0m\u001b[0;34m)\u001b[0m\u001b[0;34m\u001b[0m\u001b[0;34m\u001b[0m\u001b[0m\n\u001b[0m\u001b[1;32m   1808\u001b[0m                             \u001b[0;32mif\u001b[0m \u001b[0mdata_handler\u001b[0m\u001b[0;34m.\u001b[0m\u001b[0mshould_sync\u001b[0m\u001b[0;34m:\u001b[0m\u001b[0;34m\u001b[0m\u001b[0;34m\u001b[0m\u001b[0m\n\u001b[1;32m   1809\u001b[0m                                 \u001b[0mcontext\u001b[0m\u001b[0;34m.\u001b[0m\u001b[0masync_wait\u001b[0m\u001b[0;34m(\u001b[0m\u001b[0;34m)\u001b[0m\u001b[0;34m\u001b[0m\u001b[0;34m\u001b[0m\u001b[0m\n",
            "\u001b[0;32m/usr/local/lib/python3.10/dist-packages/tensorflow/python/util/traceback_utils.py\u001b[0m in \u001b[0;36merror_handler\u001b[0;34m(*args, **kwargs)\u001b[0m\n\u001b[1;32m    148\u001b[0m     \u001b[0mfiltered_tb\u001b[0m \u001b[0;34m=\u001b[0m \u001b[0;32mNone\u001b[0m\u001b[0;34m\u001b[0m\u001b[0;34m\u001b[0m\u001b[0m\n\u001b[1;32m    149\u001b[0m     \u001b[0;32mtry\u001b[0m\u001b[0;34m:\u001b[0m\u001b[0;34m\u001b[0m\u001b[0;34m\u001b[0m\u001b[0m\n\u001b[0;32m--> 150\u001b[0;31m       \u001b[0;32mreturn\u001b[0m \u001b[0mfn\u001b[0m\u001b[0;34m(\u001b[0m\u001b[0;34m*\u001b[0m\u001b[0margs\u001b[0m\u001b[0;34m,\u001b[0m \u001b[0;34m**\u001b[0m\u001b[0mkwargs\u001b[0m\u001b[0;34m)\u001b[0m\u001b[0;34m\u001b[0m\u001b[0;34m\u001b[0m\u001b[0m\n\u001b[0m\u001b[1;32m    151\u001b[0m     \u001b[0;32mexcept\u001b[0m \u001b[0mException\u001b[0m \u001b[0;32mas\u001b[0m \u001b[0me\u001b[0m\u001b[0;34m:\u001b[0m\u001b[0;34m\u001b[0m\u001b[0;34m\u001b[0m\u001b[0m\n\u001b[1;32m    152\u001b[0m       \u001b[0mfiltered_tb\u001b[0m \u001b[0;34m=\u001b[0m \u001b[0m_process_traceback_frames\u001b[0m\u001b[0;34m(\u001b[0m\u001b[0me\u001b[0m\u001b[0;34m.\u001b[0m\u001b[0m__traceback__\u001b[0m\u001b[0;34m)\u001b[0m\u001b[0;34m\u001b[0m\u001b[0;34m\u001b[0m\u001b[0m\n",
            "\u001b[0;32m/usr/local/lib/python3.10/dist-packages/tensorflow/python/eager/polymorphic_function/polymorphic_function.py\u001b[0m in \u001b[0;36m__call__\u001b[0;34m(self, *args, **kwds)\u001b[0m\n\u001b[1;32m    830\u001b[0m \u001b[0;34m\u001b[0m\u001b[0m\n\u001b[1;32m    831\u001b[0m       \u001b[0;32mwith\u001b[0m \u001b[0mOptionalXlaContext\u001b[0m\u001b[0;34m(\u001b[0m\u001b[0mself\u001b[0m\u001b[0;34m.\u001b[0m\u001b[0m_jit_compile\u001b[0m\u001b[0;34m)\u001b[0m\u001b[0;34m:\u001b[0m\u001b[0;34m\u001b[0m\u001b[0;34m\u001b[0m\u001b[0m\n\u001b[0;32m--> 832\u001b[0;31m         \u001b[0mresult\u001b[0m \u001b[0;34m=\u001b[0m \u001b[0mself\u001b[0m\u001b[0;34m.\u001b[0m\u001b[0m_call\u001b[0m\u001b[0;34m(\u001b[0m\u001b[0;34m*\u001b[0m\u001b[0margs\u001b[0m\u001b[0;34m,\u001b[0m \u001b[0;34m**\u001b[0m\u001b[0mkwds\u001b[0m\u001b[0;34m)\u001b[0m\u001b[0;34m\u001b[0m\u001b[0;34m\u001b[0m\u001b[0m\n\u001b[0m\u001b[1;32m    833\u001b[0m \u001b[0;34m\u001b[0m\u001b[0m\n\u001b[1;32m    834\u001b[0m       \u001b[0mnew_tracing_count\u001b[0m \u001b[0;34m=\u001b[0m \u001b[0mself\u001b[0m\u001b[0;34m.\u001b[0m\u001b[0mexperimental_get_tracing_count\u001b[0m\u001b[0;34m(\u001b[0m\u001b[0;34m)\u001b[0m\u001b[0;34m\u001b[0m\u001b[0;34m\u001b[0m\u001b[0m\n",
            "\u001b[0;32m/usr/local/lib/python3.10/dist-packages/tensorflow/python/eager/polymorphic_function/polymorphic_function.py\u001b[0m in \u001b[0;36m_call\u001b[0;34m(self, *args, **kwds)\u001b[0m\n\u001b[1;32m    866\u001b[0m       \u001b[0;31m# In this case we have created variables on the first call, so we run the\u001b[0m\u001b[0;34m\u001b[0m\u001b[0;34m\u001b[0m\u001b[0m\n\u001b[1;32m    867\u001b[0m       \u001b[0;31m# defunned version which is guaranteed to never create variables.\u001b[0m\u001b[0;34m\u001b[0m\u001b[0;34m\u001b[0m\u001b[0m\n\u001b[0;32m--> 868\u001b[0;31m       return tracing_compilation.call_function(\n\u001b[0m\u001b[1;32m    869\u001b[0m           \u001b[0margs\u001b[0m\u001b[0;34m,\u001b[0m \u001b[0mkwds\u001b[0m\u001b[0;34m,\u001b[0m \u001b[0mself\u001b[0m\u001b[0;34m.\u001b[0m\u001b[0m_no_variable_creation_config\u001b[0m\u001b[0;34m\u001b[0m\u001b[0;34m\u001b[0m\u001b[0m\n\u001b[1;32m    870\u001b[0m       )\n",
            "\u001b[0;32m/usr/local/lib/python3.10/dist-packages/tensorflow/python/eager/polymorphic_function/tracing_compilation.py\u001b[0m in \u001b[0;36mcall_function\u001b[0;34m(args, kwargs, tracing_options)\u001b[0m\n\u001b[1;32m    137\u001b[0m   \u001b[0mbound_args\u001b[0m \u001b[0;34m=\u001b[0m \u001b[0mfunction\u001b[0m\u001b[0;34m.\u001b[0m\u001b[0mfunction_type\u001b[0m\u001b[0;34m.\u001b[0m\u001b[0mbind\u001b[0m\u001b[0;34m(\u001b[0m\u001b[0;34m*\u001b[0m\u001b[0margs\u001b[0m\u001b[0;34m,\u001b[0m \u001b[0;34m**\u001b[0m\u001b[0mkwargs\u001b[0m\u001b[0;34m)\u001b[0m\u001b[0;34m\u001b[0m\u001b[0;34m\u001b[0m\u001b[0m\n\u001b[1;32m    138\u001b[0m   \u001b[0mflat_inputs\u001b[0m \u001b[0;34m=\u001b[0m \u001b[0mfunction\u001b[0m\u001b[0;34m.\u001b[0m\u001b[0mfunction_type\u001b[0m\u001b[0;34m.\u001b[0m\u001b[0munpack_inputs\u001b[0m\u001b[0;34m(\u001b[0m\u001b[0mbound_args\u001b[0m\u001b[0;34m)\u001b[0m\u001b[0;34m\u001b[0m\u001b[0;34m\u001b[0m\u001b[0m\n\u001b[0;32m--> 139\u001b[0;31m   return function._call_flat(  # pylint: disable=protected-access\n\u001b[0m\u001b[1;32m    140\u001b[0m       \u001b[0mflat_inputs\u001b[0m\u001b[0;34m,\u001b[0m \u001b[0mcaptured_inputs\u001b[0m\u001b[0;34m=\u001b[0m\u001b[0mfunction\u001b[0m\u001b[0;34m.\u001b[0m\u001b[0mcaptured_inputs\u001b[0m\u001b[0;34m\u001b[0m\u001b[0;34m\u001b[0m\u001b[0m\n\u001b[1;32m    141\u001b[0m   )\n",
            "\u001b[0;32m/usr/local/lib/python3.10/dist-packages/tensorflow/python/eager/polymorphic_function/concrete_function.py\u001b[0m in \u001b[0;36m_call_flat\u001b[0;34m(self, tensor_inputs, captured_inputs)\u001b[0m\n\u001b[1;32m   1321\u001b[0m         and executing_eagerly):\n\u001b[1;32m   1322\u001b[0m       \u001b[0;31m# No tape is watching; skip to running the function.\u001b[0m\u001b[0;34m\u001b[0m\u001b[0;34m\u001b[0m\u001b[0m\n\u001b[0;32m-> 1323\u001b[0;31m       \u001b[0;32mreturn\u001b[0m \u001b[0mself\u001b[0m\u001b[0;34m.\u001b[0m\u001b[0m_inference_function\u001b[0m\u001b[0;34m.\u001b[0m\u001b[0mcall_preflattened\u001b[0m\u001b[0;34m(\u001b[0m\u001b[0margs\u001b[0m\u001b[0;34m)\u001b[0m\u001b[0;34m\u001b[0m\u001b[0;34m\u001b[0m\u001b[0m\n\u001b[0m\u001b[1;32m   1324\u001b[0m     forward_backward = self._select_forward_and_backward_functions(\n\u001b[1;32m   1325\u001b[0m         \u001b[0margs\u001b[0m\u001b[0;34m,\u001b[0m\u001b[0;34m\u001b[0m\u001b[0;34m\u001b[0m\u001b[0m\n",
            "\u001b[0;32m/usr/local/lib/python3.10/dist-packages/tensorflow/python/eager/polymorphic_function/atomic_function.py\u001b[0m in \u001b[0;36mcall_preflattened\u001b[0;34m(self, args)\u001b[0m\n\u001b[1;32m    214\u001b[0m   \u001b[0;32mdef\u001b[0m \u001b[0mcall_preflattened\u001b[0m\u001b[0;34m(\u001b[0m\u001b[0mself\u001b[0m\u001b[0;34m,\u001b[0m \u001b[0margs\u001b[0m\u001b[0;34m:\u001b[0m \u001b[0mSequence\u001b[0m\u001b[0;34m[\u001b[0m\u001b[0mcore\u001b[0m\u001b[0;34m.\u001b[0m\u001b[0mTensor\u001b[0m\u001b[0;34m]\u001b[0m\u001b[0;34m)\u001b[0m \u001b[0;34m->\u001b[0m \u001b[0mAny\u001b[0m\u001b[0;34m:\u001b[0m\u001b[0;34m\u001b[0m\u001b[0;34m\u001b[0m\u001b[0m\n\u001b[1;32m    215\u001b[0m     \u001b[0;34m\"\"\"Calls with flattened tensor inputs and returns the structured output.\"\"\"\u001b[0m\u001b[0;34m\u001b[0m\u001b[0;34m\u001b[0m\u001b[0m\n\u001b[0;32m--> 216\u001b[0;31m     \u001b[0mflat_outputs\u001b[0m \u001b[0;34m=\u001b[0m \u001b[0mself\u001b[0m\u001b[0;34m.\u001b[0m\u001b[0mcall_flat\u001b[0m\u001b[0;34m(\u001b[0m\u001b[0;34m*\u001b[0m\u001b[0margs\u001b[0m\u001b[0;34m)\u001b[0m\u001b[0;34m\u001b[0m\u001b[0;34m\u001b[0m\u001b[0m\n\u001b[0m\u001b[1;32m    217\u001b[0m     \u001b[0;32mreturn\u001b[0m \u001b[0mself\u001b[0m\u001b[0;34m.\u001b[0m\u001b[0mfunction_type\u001b[0m\u001b[0;34m.\u001b[0m\u001b[0mpack_output\u001b[0m\u001b[0;34m(\u001b[0m\u001b[0mflat_outputs\u001b[0m\u001b[0;34m)\u001b[0m\u001b[0;34m\u001b[0m\u001b[0;34m\u001b[0m\u001b[0m\n\u001b[1;32m    218\u001b[0m \u001b[0;34m\u001b[0m\u001b[0m\n",
            "\u001b[0;32m/usr/local/lib/python3.10/dist-packages/tensorflow/python/eager/polymorphic_function/atomic_function.py\u001b[0m in \u001b[0;36mcall_flat\u001b[0;34m(self, *args)\u001b[0m\n\u001b[1;32m    249\u001b[0m         \u001b[0;32mwith\u001b[0m \u001b[0mrecord\u001b[0m\u001b[0;34m.\u001b[0m\u001b[0mstop_recording\u001b[0m\u001b[0;34m(\u001b[0m\u001b[0;34m)\u001b[0m\u001b[0;34m:\u001b[0m\u001b[0;34m\u001b[0m\u001b[0;34m\u001b[0m\u001b[0m\n\u001b[1;32m    250\u001b[0m           \u001b[0;32mif\u001b[0m \u001b[0mself\u001b[0m\u001b[0;34m.\u001b[0m\u001b[0m_bound_context\u001b[0m\u001b[0;34m.\u001b[0m\u001b[0mexecuting_eagerly\u001b[0m\u001b[0;34m(\u001b[0m\u001b[0;34m)\u001b[0m\u001b[0;34m:\u001b[0m\u001b[0;34m\u001b[0m\u001b[0;34m\u001b[0m\u001b[0m\n\u001b[0;32m--> 251\u001b[0;31m             outputs = self._bound_context.call_function(\n\u001b[0m\u001b[1;32m    252\u001b[0m                 \u001b[0mself\u001b[0m\u001b[0;34m.\u001b[0m\u001b[0mname\u001b[0m\u001b[0;34m,\u001b[0m\u001b[0;34m\u001b[0m\u001b[0;34m\u001b[0m\u001b[0m\n\u001b[1;32m    253\u001b[0m                 \u001b[0mlist\u001b[0m\u001b[0;34m(\u001b[0m\u001b[0margs\u001b[0m\u001b[0;34m)\u001b[0m\u001b[0;34m,\u001b[0m\u001b[0;34m\u001b[0m\u001b[0;34m\u001b[0m\u001b[0m\n",
            "\u001b[0;32m/usr/local/lib/python3.10/dist-packages/tensorflow/python/eager/context.py\u001b[0m in \u001b[0;36mcall_function\u001b[0;34m(self, name, tensor_inputs, num_outputs)\u001b[0m\n\u001b[1;32m   1484\u001b[0m     \u001b[0mcancellation_context\u001b[0m \u001b[0;34m=\u001b[0m \u001b[0mcancellation\u001b[0m\u001b[0;34m.\u001b[0m\u001b[0mcontext\u001b[0m\u001b[0;34m(\u001b[0m\u001b[0;34m)\u001b[0m\u001b[0;34m\u001b[0m\u001b[0;34m\u001b[0m\u001b[0m\n\u001b[1;32m   1485\u001b[0m     \u001b[0;32mif\u001b[0m \u001b[0mcancellation_context\u001b[0m \u001b[0;32mis\u001b[0m \u001b[0;32mNone\u001b[0m\u001b[0;34m:\u001b[0m\u001b[0;34m\u001b[0m\u001b[0;34m\u001b[0m\u001b[0m\n\u001b[0;32m-> 1486\u001b[0;31m       outputs = execute.execute(\n\u001b[0m\u001b[1;32m   1487\u001b[0m           \u001b[0mname\u001b[0m\u001b[0;34m.\u001b[0m\u001b[0mdecode\u001b[0m\u001b[0;34m(\u001b[0m\u001b[0;34m\"utf-8\"\u001b[0m\u001b[0;34m)\u001b[0m\u001b[0;34m,\u001b[0m\u001b[0;34m\u001b[0m\u001b[0;34m\u001b[0m\u001b[0m\n\u001b[1;32m   1488\u001b[0m           \u001b[0mnum_outputs\u001b[0m\u001b[0;34m=\u001b[0m\u001b[0mnum_outputs\u001b[0m\u001b[0;34m,\u001b[0m\u001b[0;34m\u001b[0m\u001b[0;34m\u001b[0m\u001b[0m\n",
            "\u001b[0;32m/usr/local/lib/python3.10/dist-packages/tensorflow/python/eager/execute.py\u001b[0m in \u001b[0;36mquick_execute\u001b[0;34m(op_name, num_outputs, inputs, attrs, ctx, name)\u001b[0m\n\u001b[1;32m     51\u001b[0m   \u001b[0;32mtry\u001b[0m\u001b[0;34m:\u001b[0m\u001b[0;34m\u001b[0m\u001b[0;34m\u001b[0m\u001b[0m\n\u001b[1;32m     52\u001b[0m     \u001b[0mctx\u001b[0m\u001b[0;34m.\u001b[0m\u001b[0mensure_initialized\u001b[0m\u001b[0;34m(\u001b[0m\u001b[0;34m)\u001b[0m\u001b[0;34m\u001b[0m\u001b[0;34m\u001b[0m\u001b[0m\n\u001b[0;32m---> 53\u001b[0;31m     tensors = pywrap_tfe.TFE_Py_Execute(ctx._handle, device_name, op_name,\n\u001b[0m\u001b[1;32m     54\u001b[0m                                         inputs, attrs, num_outputs)\n\u001b[1;32m     55\u001b[0m   \u001b[0;32mexcept\u001b[0m \u001b[0mcore\u001b[0m\u001b[0;34m.\u001b[0m\u001b[0m_NotOkStatusException\u001b[0m \u001b[0;32mas\u001b[0m \u001b[0me\u001b[0m\u001b[0;34m:\u001b[0m\u001b[0;34m\u001b[0m\u001b[0;34m\u001b[0m\u001b[0m\n",
            "\u001b[0;31mKeyboardInterrupt\u001b[0m: "
          ]
        }
      ],
      "source": [
        "model.compile(\n",
        "    optimizer=AdamW(3e-4),\n",
        "    loss=SparseCategoricalCrossentropy(from_logits=True),\n",
        ")\n",
        "model.fit(\n",
        "    contexts_train, targets_train,\n",
        "    batch_size=128,\n",
        "    validation_data=[contexts_test, targets_test],\n",
        "    epochs=5,\n",
        ")"
      ]
    },
    {
      "cell_type": "code",
      "execution_count": 48,
      "id": "d7023903-b3c1-4d20-9b3d-6d2a251d8de0",
      "metadata": {
        "id": "d7023903-b3c1-4d20-9b3d-6d2a251d8de0"
      },
      "outputs": [],
      "source": [
        "def generate_text(model, token_ids, max_new_tokens, T=1e+0):\n",
        "    for _ in range(max_new_tokens):\n",
        "        # [batch_size, vocab_size]\n",
        "        logits = model(token_ids[:, -seq_len:])\n",
        "        next_token_id = tf.random.categorical(T * logits, 1)\n",
        "        token_ids = tf.concat([token_ids, next_token_id], axis=1)\n",
        "    return token_ids"
      ]
    },
    {
      "cell_type": "code",
      "source": [
        "generated = generate_text(model, contexts[:1], 500)\n",
        "print(tokenizer.decode(generated.numpy()[0])[500:])"
      ],
      "metadata": {
        "colab": {
          "base_uri": "https://localhost:8080/"
        },
        "id": "gscxB8dwHaFv",
        "outputId": "2ff2d2fb-3f98-4c0b-e293-3b66599dc266"
      },
      "id": "gscxB8dwHaFv",
      "execution_count": 47,
      "outputs": [
        {
          "output_type": "stream",
          "name": "stdout",
          "text": [
            " trom him\n",
            "sood father a your worn's tentiing banon:\n",
            "And valubtig Hastief'd: boy I your and to dow an\n"
          ]
        }
      ]
    },
    {
      "cell_type": "code",
      "source": [
        "model(contexts[:1])"
      ],
      "metadata": {
        "colab": {
          "base_uri": "https://localhost:8080/"
        },
        "id": "pfRe8oITHflN",
        "outputId": "509eefb7-17fa-4b56-84d4-0d0c6910ce7e"
      },
      "id": "pfRe8oITHflN",
      "execution_count": 25,
      "outputs": [
        {
          "output_type": "execute_result",
          "data": {
            "text/plain": [
              "<tf.Tensor: shape=(1, 65), dtype=float32, numpy=\n",
              "array([[  1.3672082 ,   8.305435  ,   2.4076118 ,  -4.6232176 ,\n",
              "         -3.911023  ,   3.531605  ,   6.5494742 ,   1.7726717 ,\n",
              "          3.360558  ,  -2.8447194 ,   2.3191185 ,   3.2174513 ,\n",
              "          2.9754303 ,  -4.548216  ,  -3.108481  , -10.734207  ,\n",
              "         -3.2567148 ,  -9.551634  ,  -4.2646604 ,  -4.017103  ,\n",
              "         -6.056969  ,  -8.996709  ,  -5.9012647 ,  -6.7119308 ,\n",
              "         -7.5072613 ,  -5.8581533 ,  -1.4336154 , -10.264325  ,\n",
              "         -4.4024167 ,  -4.600944  ,  -8.042351  ,  -5.4092865 ,\n",
              "         -7.328374  ,  -7.3929725 ,  -5.041228  ,  -5.2883825 ,\n",
              "         -4.456541  ,  -6.830352  ,  -3.2494333 ,   0.24196754,\n",
              "          2.697912  ,   1.790708  ,   1.685373  ,   2.357638  ,\n",
              "          1.4519004 ,   4.3814187 ,   0.31953815,  -0.10114458,\n",
              "         -0.6006948 ,   2.5732815 ,   4.046399  ,   1.9746957 ,\n",
              "          3.5377014 ,  -1.3791897 ,  -0.19261901,  -1.4315499 ,\n",
              "          6.8487144 ,   4.8945813 ,   3.1387863 ,   1.5598515 ,\n",
              "          0.7753456 ,   2.434879  ,   0.7942153 ,  -0.9434959 ,\n",
              "          1.2190837 ]], dtype=float32)>"
            ]
          },
          "metadata": {},
          "execution_count": 25
        }
      ]
    }
  ],
  "metadata": {
    "kernelspec": {
      "display_name": ".venv",
      "language": "python",
      "name": ".venv"
    },
    "language_info": {
      "codemirror_mode": {
        "name": "ipython",
        "version": 3
      },
      "file_extension": ".py",
      "mimetype": "text/x-python",
      "name": "python",
      "nbconvert_exporter": "python",
      "pygments_lexer": "ipython3",
      "version": "3.11.6"
    },
    "colab": {
      "provenance": [],
      "gpuType": "T4"
    },
    "accelerator": "GPU"
  },
  "nbformat": 4,
  "nbformat_minor": 5
}